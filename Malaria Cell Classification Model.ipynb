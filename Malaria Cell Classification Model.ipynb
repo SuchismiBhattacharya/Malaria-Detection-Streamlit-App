{
 "cells": [
  {
   "cell_type": "code",
   "execution_count": 1,
   "id": "athletic-silence",
   "metadata": {},
   "outputs": [],
   "source": [
    "import numpy as np # linear algebra\n",
    "import pandas as pd # data processing, CSV file I/O (e.g. pd.read_csv)\n",
    "import os\n",
    "from glob import glob\n",
    "from PIL import Image\n",
    "%matplotlib inline\n",
    "import matplotlib.pyplot as plt\n",
    "import cv2\n",
    "import fnmatch\n",
    "import tensorflow as tf\n",
    "from time import sleep\n",
    "from tensorflow.keras.utils import to_categorical\n",
    "from tensorflow.keras.models import Sequential\n",
    "from tensorflow.keras.layers import Dense,Conv2D,MaxPool2D,Dropout,Flatten,BatchNormalization,MaxPooling2D,Activation\n",
    "from tensorflow.keras.optimizers import RMSprop,Adam\n",
    "from tensorflow.keras.callbacks import EarlyStopping\n",
    "from tensorflow.keras import backend as k\n",
    "import matplotlib.image as mpimg\n",
    "import keras"
   ]
  },
  {
   "cell_type": "code",
   "execution_count": 2,
   "id": "coupled-swaziland",
   "metadata": {},
   "outputs": [
    {
     "name": "stdout",
     "output_type": "stream",
     "text": [
      "['Parasitized', 'Uninfected', 'cell_images']\n"
     ]
    }
   ],
   "source": [
    "print(os.listdir(\"/home/suchismita97/malaria streamlit app/archive (2)/cell_images\"))\n"
   ]
  },
  {
   "cell_type": "code",
   "execution_count": 3,
   "id": "olive-wiring",
   "metadata": {},
   "outputs": [
    {
     "name": "stdout",
     "output_type": "stream",
     "text": [
      "13779\n",
      "13779\n"
     ]
    }
   ],
   "source": [
    "imagePatches_0 = glob('/home/suchismita97/malaria streamlit app/archive (2)/cell_images/Uninfected/*.png', recursive=True)\n",
    "imagePatches_1 = glob('/home/suchismita97/malaria streamlit app/archive (2)/cell_images/Parasitized/*.png', recursive=True)\n",
    "print(len(imagePatches_0))\n",
    "print(len(imagePatches_1))"
   ]
  },
  {
   "cell_type": "code",
   "execution_count": 4,
   "id": "filled-census",
   "metadata": {},
   "outputs": [
    {
     "ename": "SyntaxError",
     "evalue": "invalid syntax (<ipython-input-4-4ff166203f14>, line 19)",
     "output_type": "error",
     "traceback": [
      "\u001b[0;36m  File \u001b[0;32m\"<ipython-input-4-4ff166203f14>\"\u001b[0;36m, line \u001b[0;32m19\u001b[0m\n\u001b[0;31m    for i, img_path in enumerate(nex t_para_pix+next_uninf_pix):\u001b[0m\n\u001b[0m                                     ^\u001b[0m\n\u001b[0;31mSyntaxError\u001b[0m\u001b[0;31m:\u001b[0m invalid syntax\n"
     ]
    }
   ],
   "source": [
    "train_para=os.path.join('/home/suchismita97/malaria streamlit app/archive (2)/cell_images/Parasitized/')\n",
    "train_uninf=os.path.join('/home/suchismita97/malaria streamlit app/archive (2)/cell_images/Uninfected/')\n",
    "train_para_names=os.listdir(train_para)\n",
    "train_uninf_names=os.listdir(train_uninf)\n",
    "\n",
    "nrows=4\n",
    "ncols=4\n",
    "\n",
    "pic_index=0\n",
    "\n",
    "fig=plt.gcf()\n",
    "fig.set_size_inches(ncols*4,nrows*4)\n",
    "\n",
    "pic_index+=4\n",
    "\n",
    "next_para_pix = [os.path.join(train_para,fname) for fname in train_para_names[pic_index-4:pic_index]]\n",
    "next_uninf_pix = [os.path.join(train_uninf,fname) for fname in train_uninf_names[pic_index-4:pic_index]]\n",
    "\n",
    "for i, img_path in enumerate(nex t_para_pix+next_uninf_pix):\n",
    "    sp=plt.subplot(nrows,ncols,i+1)\n",
    "    sp.axis('Off')\n",
    "    img=mpimg.imread(img_path)\n",
    "    plt.imshow(img)\n",
    "plt.show()"
   ]
  },
  {
   "cell_type": "code",
   "execution_count": null,
   "id": "paperback-craps",
   "metadata": {},
   "outputs": [],
   "source": [
    "x=[]\n",
    "y=[]\n",
    "for img in imagePatches_0:\n",
    "    full_size_image = cv2.imread(img)\n",
    "    im = cv2.resize(full_size_image, (128, 128), interpolation=cv2.INTER_CUBIC)\n",
    "    x.append(im)\n",
    "    y.append(0)\n",
    "for img in imagePatches_1:\n",
    "    full_size_image = cv2.imread(img)\n",
    "    im = cv2.resize(full_size_image, (128, 128), interpolation=cv2.INTER_CUBIC)\n",
    "    x.append(im)\n",
    "    y.append(1)\n",
    "x = np.array(x)\n",
    "y = np.array(y)"
   ]
  },
  {
   "cell_type": "code",
   "execution_count": null,
   "id": "changed-simple",
   "metadata": {},
   "outputs": [],
   "source": [
    "from sklearn.model_selection import train_test_split\n",
    "x_train, x_valid, y_train, y_valid = train_test_split(x, y, test_size = 0.2, random_state = 101)\n",
    "y_train = to_categorical(y_train, num_classes = 2)\n",
    "y_valid = to_categorical(y_valid, num_classes = 2)"
   ]
  },
  {
   "cell_type": "code",
   "execution_count": null,
   "id": "cloudy-passenger",
   "metadata": {},
   "outputs": [],
   "source": [
    "input_layer = tf.keras.layers.Input([128,128,3])\n",
    "\n",
    "conv1 = tf.keras.layers.Conv2D(filters = 32 , kernel_size = (5,5) , padding ='Same',\n",
    "        activation='relu')(input_layer)\n",
    "pool1 = tf.keras.layers.MaxPooling2D(pool_size=(2,2))( conv1)\n",
    "\n",
    "\n",
    "conv2 = tf.keras.layers.Conv2D(filters = 64 , kernel_size = (3,3) , padding ='Same',\n",
    "        activation='relu')(pool1)\n",
    "pool2 = tf.keras.layers.MaxPooling2D(pool_size=(2,2) , strides=(2,2))(conv2)\n",
    "\n",
    "\n",
    "conv3 = tf.keras.layers.Conv2D(filters = 128 , kernel_size = (3,3) , padding ='Same',\n",
    "        activation='relu')(pool2)\n",
    "pool3 = tf.keras.layers.MaxPooling2D(pool_size=(2,2) , strides=(2,2))(conv3)\n",
    "\n",
    "\n",
    "conv4 = tf.keras.layers.Conv2D(filters = 128 , kernel_size = (3,3) , padding ='Same',\n",
    "        activation='relu')(pool3)\n",
    "pool4 = tf.keras.layers.MaxPooling2D(pool_size=(2,2) , strides=(2,2))(conv4)\n",
    "\n",
    "flatten = tf.keras.layers.Flatten()(pool4)\n",
    "dense = tf.keras.layers.Dense(512 , activation = 'relu')(flatten)\n",
    "out = tf.keras.layers.Dense(2 , activation='sigmoid' )(dense)\n",
    "\n",
    "model = tf.keras.Model(input_layer , out)\n"
   ]
  },
  {
   "cell_type": "code",
   "execution_count": 11,
   "id": "tutorial-hierarchy",
   "metadata": {},
   "outputs": [],
   "source": [
    "model.compile(optimizer='adam', loss = 'binary_crossentropy', metrics=['accuracy'])"
   ]
  },
  {
   "cell_type": "code",
   "execution_count": 12,
   "id": "indonesian-presence",
   "metadata": {},
   "outputs": [
    {
     "name": "stdout",
     "output_type": "stream",
     "text": [
      "Epoch 1/50\n",
      "552/552 [==============================] - 155s 280ms/step - loss: 2.6391 - accuracy: 0.5579 - val_loss: 0.6415 - val_accuracy: 0.6474\n",
      "Epoch 2/50\n",
      "552/552 [==============================] - 152s 276ms/step - loss: 0.6268 - accuracy: 0.6484 - val_loss: 0.6410 - val_accuracy: 0.6415\n",
      "Epoch 3/50\n",
      "552/552 [==============================] - 154s 278ms/step - loss: 0.6127 - accuracy: 0.6708 - val_loss: 0.6243 - val_accuracy: 0.6617\n",
      "Epoch 4/50\n",
      "552/552 [==============================] - 152s 275ms/step - loss: 0.5893 - accuracy: 0.6928 - val_loss: 0.1990 - val_accuracy: 0.9338\n",
      "Epoch 5/50\n",
      "552/552 [==============================] - 152s 276ms/step - loss: 0.1755 - accuracy: 0.9420 - val_loss: 0.1418 - val_accuracy: 0.9574\n",
      "Epoch 6/50\n",
      "552/552 [==============================] - 162s 294ms/step - loss: 0.1137 - accuracy: 0.9611 - val_loss: 0.1502 - val_accuracy: 0.9499\n",
      "Epoch 7/50\n",
      "552/552 [==============================] - 164s 297ms/step - loss: 0.0981 - accuracy: 0.9655 - val_loss: 0.1430 - val_accuracy: 0.9553\n",
      "Epoch 8/50\n",
      "552/552 [==============================] - 160s 290ms/step - loss: 0.0855 - accuracy: 0.9707 - val_loss: 0.1657 - val_accuracy: 0.9503\n",
      "Epoch 9/50\n",
      "552/552 [==============================] - 162s 294ms/step - loss: 0.0614 - accuracy: 0.9786 - val_loss: 0.2021 - val_accuracy: 0.9465\n",
      "Epoch 10/50\n",
      "552/552 [==============================] - 161s 291ms/step - loss: 0.0559 - accuracy: 0.9805 - val_loss: 0.2170 - val_accuracy: 0.9481\n",
      "Epoch 11/50\n",
      "552/552 [==============================] - 158s 286ms/step - loss: 0.0524 - accuracy: 0.9825 - val_loss: 0.2508 - val_accuracy: 0.9454\n",
      "Epoch 12/50\n",
      "552/552 [==============================] - 160s 291ms/step - loss: 0.0478 - accuracy: 0.9847 - val_loss: 0.2789 - val_accuracy: 0.9449\n",
      "Epoch 13/50\n",
      "552/552 [==============================] - 171s 309ms/step - loss: 0.0390 - accuracy: 0.9885 - val_loss: 0.2793 - val_accuracy: 0.9429\n",
      "Epoch 14/50\n",
      "552/552 [==============================] - 168s 305ms/step - loss: 0.0296 - accuracy: 0.9907 - val_loss: 0.3215 - val_accuracy: 0.9481\n",
      "Epoch 15/50\n",
      "552/552 [==============================] - 166s 300ms/step - loss: 0.0379 - accuracy: 0.9892 - val_loss: 0.3223 - val_accuracy: 0.9444\n",
      "Epoch 16/50\n",
      "552/552 [==============================] - 165s 300ms/step - loss: 0.0323 - accuracy: 0.9902 - val_loss: 0.3854 - val_accuracy: 0.9358\n",
      "Epoch 17/50\n",
      "552/552 [==============================] - 154s 280ms/step - loss: 0.0360 - accuracy: 0.9902 - val_loss: 0.3874 - val_accuracy: 0.9397\n",
      "Epoch 18/50\n",
      "552/552 [==============================] - 156s 282ms/step - loss: 0.0186 - accuracy: 0.9949 - val_loss: 0.4181 - val_accuracy: 0.9370\n",
      "Epoch 19/50\n",
      "552/552 [==============================] - 154s 279ms/step - loss: 0.0196 - accuracy: 0.9942 - val_loss: 0.5453 - val_accuracy: 0.9438\n",
      "Epoch 21/50\n",
      "552/552 [==============================] - 163s 295ms/step - loss: 0.0148 - accuracy: 0.9952 - val_loss: 0.6108 - val_accuracy: 0.9406\n",
      "Epoch 22/50\n",
      "552/552 [==============================] - 155s 280ms/step - loss: 0.0405 - accuracy: 0.9903 - val_loss: 0.5036 - val_accuracy: 0.9447\n",
      "Epoch 23/50\n",
      "552/552 [==============================] - 156s 283ms/step - loss: 0.0310 - accuracy: 0.9916 - val_loss: 0.5118 - val_accuracy: 0.9429\n",
      "Epoch 24/50\n",
      "552/552 [==============================] - 157s 284ms/step - loss: 0.0150 - accuracy: 0.9959 - val_loss: 0.5152 - val_accuracy: 0.9454\n",
      "Epoch 25/50\n",
      "552/552 [==============================] - 157s 284ms/step - loss: 0.0073 - accuracy: 0.9982 - val_loss: 0.5797 - val_accuracy: 0.9474\n",
      "Epoch 26/50\n",
      "552/552 [==============================] - 157s 285ms/step - loss: 0.0469 - accuracy: 0.9877 - val_loss: 0.5261 - val_accuracy: 0.9458\n",
      "Epoch 27/50\n",
      "552/552 [==============================] - 155s 281ms/step - loss: 0.0142 - accuracy: 0.9959 - val_loss: 0.6265 - val_accuracy: 0.9410\n",
      "Epoch 28/50\n",
      "552/552 [==============================] - 155s 281ms/step - loss: 0.0115 - accuracy: 0.9968 - val_loss: 0.5266 - val_accuracy: 0.9358\n",
      "Epoch 29/50\n",
      "552/552 [==============================] - 155s 281ms/step - loss: 0.0224 - accuracy: 0.9925 - val_loss: 0.7705 - val_accuracy: 0.9342\n",
      "Epoch 30/50\n",
      "552/552 [==============================] - 155s 281ms/step - loss: 0.0223 - accuracy: 0.9944 - val_loss: 0.8213 - val_accuracy: 0.9483\n",
      "Epoch 31/50\n",
      "552/552 [==============================] - 155s 281ms/step - loss: 0.0273 - accuracy: 0.9932 - val_loss: 0.7070 - val_accuracy: 0.9388\n",
      "Epoch 32/50\n",
      "552/552 [==============================] - 155s 281ms/step - loss: 0.0473 - accuracy: 0.9906 - val_loss: 0.7830 - val_accuracy: 0.9454\n",
      "Epoch 33/50\n",
      "552/552 [==============================] - 155s 281ms/step - loss: 0.0149 - accuracy: 0.9967 - val_loss: 0.8846 - val_accuracy: 0.9442\n",
      "Epoch 34/50\n",
      "552/552 [==============================] - 155s 281ms/step - loss: 0.0147 - accuracy: 0.9968 - val_loss: 0.9277 - val_accuracy: 0.9345\n",
      "Epoch 35/50\n",
      "552/552 [==============================] - 155s 281ms/step - loss: 0.0219 - accuracy: 0.9953 - val_loss: 0.8664 - val_accuracy: 0.9422\n",
      "Epoch 36/50\n",
      "552/552 [==============================] - 155s 281ms/step - loss: 0.0191 - accuracy: 0.9959 - val_loss: 0.7233 - val_accuracy: 0.9451\n",
      "Epoch 37/50\n",
      "552/552 [==============================] - 155s 281ms/step - loss: 0.0245 - accuracy: 0.9953 - val_loss: 1.0892 - val_accuracy: 0.9444\n",
      "Epoch 38/50\n",
      "552/552 [==============================] - 155s 281ms/step - loss: 0.0268 - accuracy: 0.9934 - val_loss: 0.9126 - val_accuracy: 0.9451\n",
      "Epoch 39/50\n",
      "552/552 [==============================] - 155s 281ms/step - loss: 0.0336 - accuracy: 0.9944 - val_loss: 0.9589 - val_accuracy: 0.9478\n",
      "Epoch 40/50\n",
      "552/552 [==============================] - 155s 281ms/step - loss: 0.0275 - accuracy: 0.9955 - val_loss: 0.8538 - val_accuracy: 0.9485\n",
      "Epoch 41/50\n",
      "552/552 [==============================] - 155s 280ms/step - loss: 0.0076 - accuracy: 0.9984 - val_loss: 1.2160 - val_accuracy: 0.9422\n",
      "Epoch 42/50\n",
      "552/552 [==============================] - 155s 281ms/step - loss: 0.0220 - accuracy: 0.9964 - val_loss: 0.9766 - val_accuracy: 0.9481\n",
      "Epoch 43/50\n",
      "552/552 [==============================] - 154s 279ms/step - loss: 0.0050 - accuracy: 0.9985 - val_loss: 1.1086 - val_accuracy: 0.9508\n",
      "Epoch 44/50\n",
      "552/552 [==============================] - 154s 280ms/step - loss: 0.0448 - accuracy: 0.9925 - val_loss: 0.7772 - val_accuracy: 0.9476\n",
      "Epoch 45/50\n",
      "552/552 [==============================] - 154s 280ms/step - loss: 0.0162 - accuracy: 0.9957 - val_loss: 1.2534 - val_accuracy: 0.9422\n",
      "Epoch 46/50\n",
      "552/552 [==============================] - 154s 280ms/step - loss: 0.0452 - accuracy: 0.9932 - val_loss: 0.9962 - val_accuracy: 0.9499\n",
      "Epoch 47/50\n",
      "552/552 [==============================] - 155s 281ms/step - loss: 0.0022 - accuracy: 0.9996 - val_loss: 0.9847 - val_accuracy: 0.9424\n",
      "Epoch 48/50\n",
      "552/552 [==============================] - 155s 281ms/step - loss: 0.0369 - accuracy: 0.9950 - val_loss: 1.0086 - val_accuracy: 0.9508\n",
      "Epoch 49/50\n",
      "552/552 [==============================] - 155s 281ms/step - loss: 0.0116 - accuracy: 0.9988 - val_loss: 1.0143 - val_accuracy: 0.9438\n",
      "Epoch 50/50\n",
      "552/552 [==============================] - 155s 281ms/step - loss: 0.0453 - accuracy: 0.9931 - val_loss: 0.9397 - val_accuracy: 0.9512\n"
     ]
    }
   ],
   "source": [
    "history = model.fit(x_train,y_train,batch_size = 32, epochs = 50, verbose=1,  validation_split=0.2)"
   ]
  },
  {
   "cell_type": "code",
   "execution_count": 29,
   "id": "amino-fundamental",
   "metadata": {},
   "outputs": [],
   "source": [
    "\n",
    "cell_url = 'https://previews.123rf.com/images/someoneice/someoneice1611/someoneice161100105/65539309-normal-red-blood-cells-under-the-microscope.jpg'\n",
    "cell_path = tf.keras.utils.get_file('cell', origin=cell_url)\n",
    "\n",
    "img = keras.preprocessing.image.load_img(\n",
    "    cell_path, target_size=(128, 128)\n",
    ")\n",
    "img_array = keras.preprocessing.image.img_to_array(img)\n",
    "img_array = tf.expand_dims(img_array, 0) # Create a batch\n",
    "\n",
    "predictions = model.predict(img_array)\n",
    "score = tf.nn.softmax(predictions[0])\n"
   ]
  },
  {
   "cell_type": "code",
   "execution_count": 33,
   "id": "thousand-spelling",
   "metadata": {},
   "outputs": [],
   "source": [
    "class_names = ['Parasitized', 'Uninfected']\n"
   ]
  },
  {
   "cell_type": "code",
   "execution_count": 34,
   "id": "derived-constitution",
   "metadata": {},
   "outputs": [
    {
     "name": "stdout",
     "output_type": "stream",
     "text": [
      "This image most likely belongs to Uninfected with a 73.10 percent confidence.\n"
     ]
    }
   ],
   "source": [
    "print(\n",
    "    \"This image most likely belongs to {} with a {:.2f} percent confidence.\"\n",
    "    .format(class_names[np.argmax(score)], 100 * np.max(score))\n",
    ")"
   ]
  },
  {
   "cell_type": "code",
   "execution_count": 35,
   "id": "blond-plastic",
   "metadata": {},
   "outputs": [
    {
     "name": "stdout",
     "output_type": "stream",
     "text": [
      "INFO:tensorflow:Assets written to: my_malaria_tf_model/assets\n"
     ]
    }
   ],
   "source": [
    "model.save('my_malaria_tf_model')\n"
   ]
  },
  {
   "cell_type": "code",
   "execution_count": 6,
   "id": "novel-gamma",
   "metadata": {},
   "outputs": [],
   "source": [
    "#reconstructed_model = tf.keras.models.load_model(\"my_malaria_tf_model\")"
   ]
  },
  {
   "cell_type": "code",
   "execution_count": 7,
   "id": "compliant-kennedy",
   "metadata": {},
   "outputs": [],
   "source": []
  },
  {
   "cell_type": "code",
   "execution_count": null,
   "id": "raising-penetration",
   "metadata": {},
   "outputs": [],
   "source": []
  }
 ],
 "metadata": {
  "kernelspec": {
   "display_name": "Python 3",
   "language": "python",
   "name": "python3"
  },
  "language_info": {
   "codemirror_mode": {
    "name": "ipython",
    "version": 3
   },
   "file_extension": ".py",
   "mimetype": "text/x-python",
   "name": "python",
   "nbconvert_exporter": "python",
   "pygments_lexer": "ipython3",
   "version": "3.8.5"
  }
 },
 "nbformat": 4,
 "nbformat_minor": 5
}
